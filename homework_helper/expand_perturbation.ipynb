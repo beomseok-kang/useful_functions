{
 "cells": [
  {
   "cell_type": "code",
   "execution_count": 1,
   "id": "8af2be6b",
   "metadata": {},
   "outputs": [],
   "source": [
    "import itertools\n",
    "import math"
   ]
  },
  {
   "cell_type": "code",
   "execution_count": 3,
   "id": "d0f5e249",
   "metadata": {},
   "outputs": [
    {
     "data": {
      "text/plain": [
       "[[0, 0, 0, 3],\n",
       " [0, 0, 1, 2],\n",
       " [0, 0, 2, 1],\n",
       " [0, 0, 3, 0],\n",
       " [0, 1, 0, 2],\n",
       " [0, 1, 1, 1],\n",
       " [0, 1, 2, 0],\n",
       " [0, 2, 0, 1],\n",
       " [0, 2, 1, 0],\n",
       " [0, 3, 0, 0],\n",
       " [1, 0, 0, 2],\n",
       " [1, 0, 1, 1],\n",
       " [1, 0, 2, 0],\n",
       " [1, 1, 0, 1],\n",
       " [1, 1, 1, 0],\n",
       " [1, 2, 0, 0],\n",
       " [2, 0, 0, 1],\n",
       " [2, 0, 1, 0],\n",
       " [2, 1, 0, 0],\n",
       " [3, 0, 0, 0]]"
      ]
     },
     "execution_count": 3,
     "metadata": {},
     "output_type": "execute_result"
    }
   ],
   "source": [
    "n = 3\n",
    "combinations = [list(comb) for comb in itertools.product(range(n+1), repeat=n+1) if sum(comb) == n]\n",
    "combinations"
   ]
  },
  {
   "cell_type": "code",
   "execution_count": 7,
   "id": "c562a81c",
   "metadata": {},
   "outputs": [
    {
     "name": "stdout",
     "output_type": "stream",
     "text": [
      "[0, 0, 0, 3] ,  9\n",
      "[0, 0, 1, 2] ,  8\n",
      "[0, 0, 2, 1] ,  7\n",
      "[0, 0, 3, 0] ,  6\n",
      "[0, 1, 0, 2] ,  7\n",
      "[0, 1, 1, 1] ,  6\n",
      "[0, 1, 2, 0] ,  5\n",
      "[0, 2, 0, 1] ,  5\n",
      "[0, 2, 1, 0] ,  4\n",
      "[0, 3, 0, 0] ,  3\n",
      "[1, 0, 0, 2] ,  6\n",
      "[1, 0, 1, 1] ,  5\n",
      "[1, 0, 2, 0] ,  4\n",
      "[1, 1, 0, 1] ,  4\n",
      "[1, 1, 1, 0] ,  3\n",
      "[1, 2, 0, 0] ,  2\n",
      "[2, 0, 0, 1] ,  3\n",
      "[2, 0, 1, 0] ,  2\n",
      "[2, 1, 0, 0] ,  1\n",
      "[3, 0, 0, 0] ,  0\n"
     ]
    }
   ],
   "source": [
    "for comb in combinations:\n",
    "    eps_pow = 0\n",
    "    for i in range(len(comb)):\n",
    "        eps_pow += comb[i] * i\n",
    "    print(comb, \", \", eps_pow)"
   ]
  },
  {
   "cell_type": "code",
   "execution_count": 11,
   "id": "43f46f74",
   "metadata": {},
   "outputs": [
    {
     "data": {
      "text/plain": [
       "[[9.0, 5, [0, 1, 2, 0]],\n",
       " [9.0, 5, [0, 2, 0, 1]],\n",
       " [9.0, 4, [0, 2, 1, 0]],\n",
       " [3.0, 3, [0, 3, 0, 0]],\n",
       " [18.0, 5, [1, 0, 1, 1]],\n",
       " [9.0, 4, [1, 0, 2, 0]],\n",
       " [18.0, 4, [1, 1, 0, 1]],\n",
       " [18.0, 3, [1, 1, 1, 0]],\n",
       " [9.0, 2, [1, 2, 0, 0]],\n",
       " [9.0, 3, [2, 0, 0, 1]],\n",
       " [9.0, 2, [2, 0, 1, 0]],\n",
       " [9.0, 1, [2, 1, 0, 0]],\n",
       " [3.0, 0, [3, 0, 0, 0]]]"
      ]
     },
     "execution_count": 11,
     "metadata": {},
     "output_type": "execute_result"
    }
   ],
   "source": [
    "result_poly = []\n",
    "max_eps_pow = 5\n",
    "coeff = 3\n",
    "n = 3\n",
    "combinations = [list(comb) for comb in itertools.product(range(n+1), repeat=n+1) if sum(comb) == n]\n",
    "for comb in combinations:\n",
    "    eps_pow = 0\n",
    "    for i in range(len(comb)):\n",
    "        eps_pow += comb[i] * i\n",
    "    if eps_pow > max_eps_pow:\n",
    "        continue\n",
    "    term_coeff = coeff * math.factorial(n) / math.factorial(comb[0]) / math.factorial(comb[1]) / math.factorial(comb[2])\n",
    "    result_poly.append([term_coeff, eps_pow, comb])\n",
    "\n",
    "result_poly"
   ]
  },
  {
   "cell_type": "code",
   "execution_count": 13,
   "id": "4b22b94b",
   "metadata": {
    "scrolled": true
   },
   "outputs": [
    {
     "data": {
      "text/plain": [
       "[[3.0, 0, [3, 0, 0, 0]],\n",
       " [9.0, 1, [2, 1, 0, 0]],\n",
       " [9.0, 2, [1, 2, 0, 0]],\n",
       " [9.0, 2, [2, 0, 1, 0]],\n",
       " [3.0, 3, [0, 3, 0, 0]],\n",
       " [18.0, 3, [1, 1, 1, 0]],\n",
       " [9.0, 3, [2, 0, 0, 1]],\n",
       " [9.0, 4, [0, 2, 1, 0]],\n",
       " [9.0, 4, [1, 0, 2, 0]],\n",
       " [18.0, 4, [1, 1, 0, 1]],\n",
       " [9.0, 5, [0, 1, 2, 0]],\n",
       " [9.0, 5, [0, 2, 0, 1]],\n",
       " [18.0, 5, [1, 0, 1, 1]]]"
      ]
     },
     "execution_count": 13,
     "metadata": {},
     "output_type": "execute_result"
    }
   ],
   "source": [
    "result_poly.sort(key=lambda x: x[1])\n",
    "result_poly"
   ]
  },
  {
   "cell_type": "code",
   "execution_count": 20,
   "id": "ede42ef8",
   "metadata": {},
   "outputs": [
    {
     "data": {
      "text/plain": [
       "[[3.0, 0, [3, 0, 0, 0]],\n",
       " [9.0, 1, [2, 1, 0, 0]],\n",
       " [9.0, 2, [1, 2, 0, 0]],\n",
       " [9.0, 2, [2, 0, 1, 0]],\n",
       " [3.0, 3, [0, 3, 0, 0]],\n",
       " [18.0, 3, [1, 1, 1, 0]],\n",
       " [9.0, 3, [2, 0, 0, 1]],\n",
       " [9.0, 4, [0, 2, 1, 0]],\n",
       " [9.0, 4, [1, 0, 2, 0]],\n",
       " [18.0, 4, [1, 1, 0, 1]],\n",
       " [9.0, 5, [0, 1, 2, 0]],\n",
       " [9.0, 5, [0, 2, 0, 1]],\n",
       " [18.0, 5, [1, 0, 1, 1]]]"
      ]
     },
     "execution_count": 20,
     "metadata": {},
     "output_type": "execute_result"
    }
   ],
   "source": [
    "result_poly.sort(key=lambda x: x[1])\n",
    "result_poly"
   ]
  },
  {
   "cell_type": "code",
   "execution_count": 28,
   "id": "46983d7d",
   "metadata": {},
   "outputs": [
    {
     "name": "stdout",
     "output_type": "stream",
     "text": [
      "eps^0(\n",
      "\n",
      "\t+ 3.0 * X0^3 \n",
      ") + \n",
      "\n",
      "eps^1 (\n",
      "\t+ 9.0 * X0^2 X1^1 \n",
      ") + \n",
      "\n",
      "eps^2 (\n",
      "\t+ 9.0 * X0^1 X1^2 \n",
      "\t+ 9.0 * X0^2 X2^1 \n",
      ") + \n",
      "\n",
      "eps^3 (\n",
      "\t+ 3.0 * X1^3 \n",
      "\t+ 18.0 * X0^1 X1^1 X2^1 \n",
      "\t+ 9.0 * X0^2 X3^1 \n",
      ") + \n",
      "\n",
      "eps^4 (\n",
      "\t+ 9.0 * X1^2 X2^1 \n",
      "\t+ 9.0 * X0^1 X2^2 \n",
      "\t+ 18.0 * X0^1 X1^1 X3^1 \n",
      ") + \n",
      "\n",
      "eps^5 (\n",
      "\t+ 9.0 * X1^1 X2^2 \n",
      "\t+ 9.0 * X1^2 X3^1 \n",
      "\t+ 18.0 * X0^1 X2^1 X3^1 \n",
      ")\n"
     ]
    }
   ],
   "source": [
    "result_poly.sort(key=lambda x: x[1])\n",
    "eps_pow_now = result_poly[0][1]\n",
    "print(\"eps^\" + str(eps_pow_now) + \"(\")\n",
    "for (i, term) in enumerate(result_poly):\n",
    "    coeff, eps_pow, comb = term\n",
    "    if eps_pow != eps_pow_now:\n",
    "        eps_pow_now = eps_pow\n",
    "        print(\"\\n) + \")\n",
    "        print(\"\\neps^\" + str(eps_pow) + \" (\")\n",
    "    else:\n",
    "        print()\n",
    "    if coeff == 0:\n",
    "        continue\n",
    "    print(\"\\t+ \" + str(coeff) + \" * \", end=\"\")\n",
    "    for j, pow in enumerate(comb):\n",
    "        if pow == 0:\n",
    "            continue\n",
    "        print(\"X\" + str(j) + \"^\" + str(pow), end=\" \")\n",
    "print(\"\\n)\")"
   ]
  },
  {
   "cell_type": "code",
   "execution_count": 52,
   "id": "0cdd2212",
   "metadata": {},
   "outputs": [],
   "source": [
    "import math\n",
    "import itertools\n",
    "\n",
    "class expand_perturbation:\n",
    "    \"\"\"\n",
    "        props\n",
    "\n",
    "        poly_info: list of tuples (coeff, eps_pow, x_pow)\n",
    "            e.g. [[1, 0, 0], [4, 2, 1], [2, 1, 2]] = 1 + (4 * eps^2) * x + (2 * eps) * x^2\n",
    "            e.g. x^3 - 3 * eps * x - x + eps * 4 = [[1, 0, 3], [-3, 2, 1], [-1, 0, 1], [4, 1, 0]]\n",
    "    \"\"\"\n",
    "    def __init__(self, poly_info=[]):\n",
    "        self._check_poly(poly_info)\n",
    "        self.poly_info = poly_info\n",
    "\n",
    "    def parse_poly(self):\n",
    "        return \"\"\n",
    "    \n",
    "    def set_poly_info(self, poly_info):\n",
    "        self._check_poly(poly_info)\n",
    "        self.poly_info = poly_info\n",
    "        return self\n",
    "    \n",
    "    def _check_poly(self, poly_info):\n",
    "        for coeff, eps_pow, x_pow in poly_info:\n",
    "            if coeff is None or eps_pow is None or x_pow is None:\n",
    "                raise Exception(\"coeff, eps_pow, x_pow must be specified\")\n",
    "            if eps_pow < 0 or x_pow < 0:\n",
    "                raise Exception(\"eps_pow and x_pow must be positive\")\n",
    "            if not isinstance(coeff, (int, float)):\n",
    "                raise Exception(\"coeff must be a number\")\n",
    "            if not isinstance(eps_pow, int):\n",
    "                raise Exception(\"eps_pow must be an integer\")\n",
    "            if not isinstance(x_pow, int):\n",
    "                raise Exception(\"x_pow must be an integer\")\n",
    "        return True\n",
    "\n",
    "    def expand(self, max_eps_pow):\n",
    "        if max_eps_pow is None:\n",
    "            raise Exception(\"eps_pow must be specified\")\n",
    "        if self.poly_info == []:\n",
    "            raise Exception(\"poly_info must be specified\")\n",
    "        \n",
    "        \"\"\"\n",
    "            x = x_0 + eps * x_1 + eps^2 * x_2 + ...\n",
    "            x^n = (x_0 + eps * x_1 + eps^2 * x_2 + ...)^n\n",
    "            result: [[coeff, eps_pow, x0_pow, x1_pow, ..., x(max_eps_pow)_pow], ...]\n",
    "        \"\"\"\n",
    "        result_poly = []\n",
    "        for coeff, eps_pow, x_pow in self.poly_info:\n",
    "            n = max_eps_pow\n",
    "            combinations = [list(comb) for comb in itertools.product(range(n+1), repeat=n+1) if sum(comb) == x_pow]\n",
    "            for comb in combinations:\n",
    "                eps_pow_fin = eps_pow\n",
    "                for i in range(len(comb)):\n",
    "                    eps_pow_fin += comb[i] * i\n",
    "                if eps_pow_fin > max_eps_pow:\n",
    "                    continue\n",
    "                term_coeff = coeff * math.factorial(x_pow)\n",
    "                for i in comb:\n",
    "                    term_coeff /= math.factorial(i)\n",
    "                result_poly.append([term_coeff, eps_pow_fin, comb])\n",
    "        \n",
    "        # combine terms with the same eps_pow\n",
    "        result_poly.sort(key=lambda x: x[1])\n",
    "        eps_pow_now = result_poly[0][1]\n",
    "        print(\"eps^\" + str(eps_pow_now) + \"(\")\n",
    "        for (i, term) in enumerate(result_poly):\n",
    "            coeff, eps_pow, comb = term\n",
    "            if eps_pow != eps_pow_now:\n",
    "                eps_pow_now = eps_pow\n",
    "                print(\"\\n) + \")\n",
    "                print(\"\\neps^\" + str(eps_pow) + \" (\")\n",
    "            else:\n",
    "                print()\n",
    "            if coeff == 0:\n",
    "                continue\n",
    "            print(\"\\t+ \" + str(coeff), end=\"\")\n",
    "            for j, pow in enumerate(comb):\n",
    "                if pow == 0:\n",
    "                    continue\n",
    "                print(\" * X\" + str(j) + \"^\" + str(pow), end=\"\")\n",
    "        print(\"\\n)\")\n",
    "        return result_poly\n",
    "    \n"
   ]
  },
  {
   "cell_type": "code",
   "execution_count": 53,
   "id": "85e1c4d5",
   "metadata": {},
   "outputs": [],
   "source": [
    "ep = expand_perturbation([[1, 0, 3], [-3, 2, 1], [-1, 0, 1], [4, 1, 0]])"
   ]
  },
  {
   "cell_type": "code",
   "execution_count": 54,
   "id": "9d0fd035",
   "metadata": {},
   "outputs": [
    {
     "name": "stdout",
     "output_type": "stream",
     "text": [
      "eps^0(\n",
      "\n",
      "\t+ 1.0 * X0^3\n",
      "\t+ -1.0 * X0^1\n",
      ") + \n",
      "\n",
      "eps^1 (\n",
      "\t+ 3.0 * X0^2 * X1^1\n",
      "\t+ -1.0 * X1^1\n",
      "\t+ 4.0\n",
      ") + \n",
      "\n",
      "eps^2 (\n",
      "\t+ 3.0 * X0^1 * X1^2\n",
      "\t+ 3.0 * X0^2 * X2^1\n",
      "\t+ -3.0 * X0^1\n",
      "\t+ -1.0 * X2^1\n",
      ") + \n",
      "\n",
      "eps^3 (\n",
      "\t+ 1.0 * X1^3\n",
      "\t+ 6.0 * X0^1 * X1^1 * X2^1\n",
      "\t+ 3.0 * X0^2 * X3^1\n",
      "\t+ -3.0 * X1^1\n",
      "\t+ -1.0 * X3^1\n",
      ") + \n",
      "\n",
      "eps^4 (\n",
      "\t+ 3.0 * X1^2 * X2^1\n",
      "\t+ 3.0 * X0^1 * X2^2\n",
      "\t+ 6.0 * X0^1 * X1^1 * X3^1\n",
      "\t+ 3.0 * X0^2 * X4^1\n",
      "\t+ -3.0 * X2^1\n",
      "\t+ -1.0 * X4^1\n",
      ") + \n",
      "\n",
      "eps^5 (\n",
      "\t+ 3.0 * X1^1 * X2^2\n",
      "\t+ 3.0 * X1^2 * X3^1\n",
      "\t+ 6.0 * X0^1 * X2^1 * X3^1\n",
      "\t+ 6.0 * X0^1 * X1^1 * X4^1\n",
      "\t+ 3.0 * X0^2 * X5^1\n",
      "\t+ -3.0 * X3^1\n",
      "\t+ -1.0 * X5^1\n",
      ")\n"
     ]
    },
    {
     "data": {
      "text/plain": [
       "[[1.0, 0, [3, 0, 0, 0, 0, 0]],\n",
       " [-1.0, 0, [1, 0, 0, 0, 0, 0]],\n",
       " [3.0, 1, [2, 1, 0, 0, 0, 0]],\n",
       " [-1.0, 1, [0, 1, 0, 0, 0, 0]],\n",
       " [4.0, 1, [0, 0, 0, 0, 0, 0]],\n",
       " [3.0, 2, [1, 2, 0, 0, 0, 0]],\n",
       " [3.0, 2, [2, 0, 1, 0, 0, 0]],\n",
       " [-3.0, 2, [1, 0, 0, 0, 0, 0]],\n",
       " [-1.0, 2, [0, 0, 1, 0, 0, 0]],\n",
       " [1.0, 3, [0, 3, 0, 0, 0, 0]],\n",
       " [6.0, 3, [1, 1, 1, 0, 0, 0]],\n",
       " [3.0, 3, [2, 0, 0, 1, 0, 0]],\n",
       " [-3.0, 3, [0, 1, 0, 0, 0, 0]],\n",
       " [-1.0, 3, [0, 0, 0, 1, 0, 0]],\n",
       " [3.0, 4, [0, 2, 1, 0, 0, 0]],\n",
       " [3.0, 4, [1, 0, 2, 0, 0, 0]],\n",
       " [6.0, 4, [1, 1, 0, 1, 0, 0]],\n",
       " [3.0, 4, [2, 0, 0, 0, 1, 0]],\n",
       " [-3.0, 4, [0, 0, 1, 0, 0, 0]],\n",
       " [-1.0, 4, [0, 0, 0, 0, 1, 0]],\n",
       " [3.0, 5, [0, 1, 2, 0, 0, 0]],\n",
       " [3.0, 5, [0, 2, 0, 1, 0, 0]],\n",
       " [6.0, 5, [1, 0, 1, 1, 0, 0]],\n",
       " [6.0, 5, [1, 1, 0, 0, 1, 0]],\n",
       " [3.0, 5, [2, 0, 0, 0, 0, 1]],\n",
       " [-3.0, 5, [0, 0, 0, 1, 0, 0]],\n",
       " [-1.0, 5, [0, 0, 0, 0, 0, 1]]]"
      ]
     },
     "execution_count": 54,
     "metadata": {},
     "output_type": "execute_result"
    }
   ],
   "source": [
    "ep.expand(5)"
   ]
  },
  {
   "cell_type": "code",
   "execution_count": null,
   "id": "45107e10",
   "metadata": {},
   "outputs": [],
   "source": []
  }
 ],
 "metadata": {
  "kernelspec": {
   "display_name": "Python 3 (ipykernel)",
   "language": "python",
   "name": "python3"
  },
  "language_info": {
   "codemirror_mode": {
    "name": "ipython",
    "version": 3
   },
   "file_extension": ".py",
   "mimetype": "text/x-python",
   "name": "python",
   "nbconvert_exporter": "python",
   "pygments_lexer": "ipython3",
   "version": "3.11.5"
  }
 },
 "nbformat": 4,
 "nbformat_minor": 5
}
